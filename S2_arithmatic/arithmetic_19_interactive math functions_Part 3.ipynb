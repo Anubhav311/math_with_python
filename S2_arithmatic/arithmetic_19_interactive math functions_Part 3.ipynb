{
 "cells": [
  {
   "cell_type": "code",
   "execution_count": 2,
   "metadata": {},
   "outputs": [
    {
     "data": {
      "text/plain": [
       "74"
      ]
     },
     "execution_count": 2,
     "metadata": {},
     "output_type": "execute_result"
    }
   ],
   "source": [
    "from numpy import random\n",
    "random.randint(100)"
   ]
  },
  {
   "cell_type": "code",
   "execution_count": 10,
   "metadata": {},
   "outputs": [],
   "source": [
    "def guessTheNumber():\n",
    "    number = int(input('Guess a number between 1 and 100: '))\n",
    "    randomNumber = random.randint(1, 101)\n",
    "    \n",
    "    while number != randomNumber:\n",
    "        if number < randomNumber:\n",
    "            print('Guess higher!')\n",
    "        elif number > randomNumber:\n",
    "            print('Guess lower!')\n",
    "        number = int(input('Guess again: '))\n",
    "    print('Got it! The right number was %g and your final guess was %g' %(randomNumber, number))"
   ]
  },
  {
   "cell_type": "code",
   "execution_count": 7,
   "metadata": {},
   "outputs": [
    {
     "name": "stdout",
     "output_type": "stream",
     "text": [
      "Guess a number between 1 and 100: 50\n",
      "Guess higher!\n",
      "Guess again75\n",
      "Guess lower!\n",
      "Guess again63\n",
      "Guess higher!\n",
      "Guess again69\n",
      "Guess higher!\n",
      "Guess again72\n",
      "Guess higher!\n",
      "Guess again74\n",
      "Got it! The right number was 74 and your final guess was 74\n"
     ]
    }
   ],
   "source": [
    "guessTheNumber()"
   ]
  },
  {
   "cell_type": "code",
   "execution_count": 8,
   "metadata": {},
   "outputs": [
    {
     "name": "stdout",
     "output_type": "stream",
     "text": [
      "Guess a number between 1 and 100: 50\n",
      "Guess lower!\n",
      "Guess again25\n",
      "Guess lower!\n",
      "Guess again13\n",
      "Guess higher!\n",
      "Guess again19\n",
      "Guess higher!\n",
      "Guess again22\n",
      "Guess lower!\n",
      "Guess again21\n",
      "Got it! The right number was 21 and your final guess was 21\n"
     ]
    }
   ],
   "source": [
    "guessTheNumber()"
   ]
  },
  {
   "cell_type": "code",
   "execution_count": 11,
   "metadata": {},
   "outputs": [
    {
     "name": "stdout",
     "output_type": "stream",
     "text": [
      "Guess a number between 1 and 100: 50\n",
      "Guess lower!\n",
      "Guess again25\n",
      "Guess lower!\n",
      "Guess again13\n",
      "Guess lower!\n",
      "Guess again7\n",
      "Guess higher!\n",
      "Guess again10\n",
      "Got it! The right number was 10 and your final guess was 10\n"
     ]
    }
   ],
   "source": [
    "guessTheNumber()"
   ]
  }
 ],
 "metadata": {
  "kernelspec": {
   "display_name": "Python 3",
   "language": "python",
   "name": "python3"
  },
  "language_info": {
   "codemirror_mode": {
    "name": "ipython",
    "version": 3
   },
   "file_extension": ".py",
   "mimetype": "text/x-python",
   "name": "python",
   "nbconvert_exporter": "python",
   "pygments_lexer": "ipython3",
   "version": "3.7.4"
  }
 },
 "nbformat": 4,
 "nbformat_minor": 2
}
